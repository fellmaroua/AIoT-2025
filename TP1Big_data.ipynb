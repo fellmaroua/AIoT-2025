{
  "nbformat": 4,
  "nbformat_minor": 0,
  "metadata": {
    "colab": {
      "provenance": [],
      "authorship_tag": "ABX9TyOPA3UetNKMtnwS3dU+azPJ",
      "include_colab_link": true
    },
    "kernelspec": {
      "name": "python3",
      "display_name": "Python 3"
    },
    "language_info": {
      "name": "python"
    }
  },
  "cells": [
    {
      "cell_type": "markdown",
      "metadata": {
        "id": "view-in-github",
        "colab_type": "text"
      },
      "source": [
        "<a href=\"https://colab.research.google.com/github/fellmaroua/AIoT-2025/blob/main/TP1Big_data.ipynb\" target=\"_parent\"><img src=\"https://colab.research.google.com/assets/colab-badge.svg\" alt=\"Open In Colab\"/></a>"
      ]
    },
    {
      "cell_type": "code",
      "source": [
        "import requests\n",
        "import pandas as pd\n",
        "import time\n",
        "\n",
        "api_key = \"2d0e8e54\"\n",
        "base_url = \"http://www.omdbapi.com/\"\n",
        "\n",
        "all_movies = []\n",
        "\n",
        "keywords = [\"love\", \"war\", \"life\", \"night\", \"day\", \"death\", \"star\", \"man\", \"woman\", \"king\"]\n",
        "\n",
        "for keyword in keywords:\n",
        "    for page in range(1, 101):\n",
        "        params = {\"apikey\": api_key, \"s\": keyword, \"type\": \"movie\", \"page\": page}\n",
        "        response = requests.get(base_url, params=params)\n",
        "        data = response.json()\n",
        "\n",
        "        if data.get(\"Search\"):\n",
        "            for movie in data[\"Search\"]:\n",
        "                all_movies.append({\n",
        "                    \"Title\": movie.get(\"Title\"),\n",
        "                    \"Year\": movie.get(\"Year\"),\n",
        "                    \"imdbID\": movie.get(\"imdbID\"),\n",
        "                    \"Type\": movie.get(\"Type\"),\n",
        "                    \"Poster\": movie.get(\"Poster\")\n",
        "                })\n",
        "        else:\n",
        "            break\n",
        "        time.sleep(0.2)\n",
        "\n",
        "df = pd.DataFrame(all_movies)\n",
        "df.to_csv(\"movies_1000.csv\", index=False, encoding=\"utf-8\")\n",
        "print(f\" تم حفظ {len(df)} فيلم في الملف movies_1000.csv\")\n"
      ],
      "metadata": {
        "id": "v9SREKh3dnhy"
      },
      "execution_count": null,
      "outputs": []
    }
  ]
}